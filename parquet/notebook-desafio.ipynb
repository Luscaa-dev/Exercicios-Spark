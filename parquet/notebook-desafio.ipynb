{
 "cells": [
  {
   "cell_type": "code",
   "execution_count": 14,
   "id": "042829c1",
   "metadata": {},
   "outputs": [],
   "source": [
    "import pandas as pd\n",
    "import os\n",
    "import random"
   ]
  },
  {
   "cell_type": "code",
   "execution_count": 15,
   "id": "a11b110c",
   "metadata": {},
   "outputs": [
    {
     "name": "stdout",
     "output_type": "stream",
     "text": [
      "Arquivo 'vendas.csv' criado!\n"
     ]
    }
   ],
   "source": [
    "import pandas as pd\n",
    "import random\n",
    "from datetime import datetime, timedelta\n",
    "\n",
    "# LISTA DE ID DE CLIENTES\n",
    "ids = list(range(1, 101))  # 100 clientes\n",
    "\n",
    "# FUNÇÃO PARA GERAR DATA ALEATÓRIA\n",
    "def gerar_data_aleatoria():\n",
    "    inicio = datetime.strptime(\"2020-01-01\", \"%Y-%m-%d\")\n",
    "    fim = datetime.strptime(\"2023-12-31\", \"%Y-%m-%d\")\n",
    "    return (inicio + timedelta(days=random.randint(0, (fim - inicio).days))).strftime(\"%Y-%m-%d\")\n",
    "\n",
    "# GERA OS DADOS\n",
    "id_cliente = [random.choice(ids) for _ in range(1000)]\n",
    "valor_compra = [round(random.uniform(10.0, 1000.0), 2) for _ in range(1000)]\n",
    "data_compra = [gerar_data_aleatoria() for _ in range(1000)]\n",
    "\n",
    "# CRIA O DATAFRAME\n",
    "dados = {\n",
    "    \"id_cliente\": id_cliente,\n",
    "    \"valor_compra\": valor_compra,\n",
    "    \"data_compra\": data_compra\n",
    "}\n",
    "\n",
    "df = pd.DataFrame(dados)\n",
    "\n",
    "# SALVA O CSV\n",
    "df.to_csv(\"../csv/vendas.csv\", index=False)\n",
    "\n",
    "print(\"Arquivo 'vendas.csv' criado!\")\n"
   ]
  },
  {
   "cell_type": "code",
   "execution_count": 16,
   "id": "801d5aef",
   "metadata": {},
   "outputs": [
    {
     "name": "stdout",
     "output_type": "stream",
     "text": [
      "+----------+------------+-----------+\n",
      "|id_cliente|valor_compra|data_compra|\n",
      "+----------+------------+-----------+\n",
      "|         4|      961.24| 2020-09-03|\n",
      "|        42|      102.13| 2020-04-25|\n",
      "|        19|       90.23| 2023-09-22|\n",
      "|        33|      334.45| 2020-01-22|\n",
      "|        98|      438.55| 2023-05-31|\n",
      "|        62|       56.89| 2021-10-14|\n",
      "|        90|      755.41| 2021-03-13|\n",
      "|         3|      852.24| 2022-07-21|\n",
      "|        58|      206.94| 2020-09-01|\n",
      "|        65|      674.63| 2023-06-24|\n",
      "+----------+------------+-----------+\n",
      "only showing top 10 rows\n",
      "\n"
     ]
    }
   ],
   "source": [
    "from pyspark.sql import SparkSession\n",
    "from pyspark.sql.functions import year, col, desc\n",
    "\n",
    "# CRIAR A SESSÃO SPARK\n",
    "\n",
    "spark = SparkSession.builder.appName(\"DesafioFinal\").getOrCreate()\n",
    "\n",
    "# LÊ O ARQUIVO CSV\n",
    "\n",
    "df = spark.read.csv(\"../csv/vendas.csv\", header=True, inferSchema=True)\n",
    "\n",
    "# MOSTRA OS DADOS\n",
    "\n",
    "df.show(10)"
   ]
  },
  {
   "cell_type": "code",
   "execution_count": 17,
   "id": "c88ca458",
   "metadata": {},
   "outputs": [
    {
     "name": "stdout",
     "output_type": "stream",
     "text": [
      "+----------+------------+-----------+\n",
      "|id_cliente|valor_compra|data_compra|\n",
      "+----------+------------+-----------+\n",
      "|        41|      998.51| 2021-04-14|\n",
      "|        59|      998.46| 2020-12-17|\n",
      "|        56|       997.2| 2023-03-26|\n",
      "|        78|      994.32| 2020-06-17|\n",
      "|        80|      993.53| 2022-02-12|\n",
      "|        78|      993.51| 2021-01-11|\n",
      "|        86|      993.29| 2020-07-22|\n",
      "|        82|      993.18| 2020-04-21|\n",
      "|         8|      990.24| 2020-10-31|\n",
      "|         7|      989.56| 2021-07-02|\n",
      "+----------+------------+-----------+\n",
      "only showing top 10 rows\n",
      "\n"
     ]
    }
   ],
   "source": [
    "# IDENTIFICA OS CLIENTES COM MAIOR VALOR DE COMPRA\n",
    "\n",
    "clientes_maiores_compras = df.orderBy(desc(\"valor_compra\"))\n",
    "clientes_maiores_compras.show(10)"
   ]
  },
  {
   "cell_type": "code",
   "execution_count": 18,
   "id": "7fb95f8d",
   "metadata": {},
   "outputs": [
    {
     "name": "stdout",
     "output_type": "stream",
     "text": [
      "+----+------------------+\n",
      "| ano|      total_vendas|\n",
      "+----+------------------+\n",
      "|2023|133305.52000000002|\n",
      "|2022|         117650.51|\n",
      "|2020|126569.51999999999|\n",
      "|2021|108649.27999999997|\n",
      "+----+------------------+\n",
      "\n"
     ]
    }
   ],
   "source": [
    "# AGRUPA AS COMPRAS POR ANO E CALCULA O TOTAL\n",
    "\n",
    "df_com_ano = df.withColumn(\"ano\", year(col(\"data_compra\")))\n",
    "vendas_anuais = df_com_ano.groupBy(\"ano\").sum(\"valor_compra\")\n",
    "vendas_anuais = vendas_anuais.withColumnRenamed(\"sum(valor_compra)\", \"total_vendas\")\n",
    "vendas_anuais.show()"
   ]
  },
  {
   "cell_type": "code",
   "execution_count": 19,
   "id": "d758b01f",
   "metadata": {},
   "outputs": [
    {
     "name": "stdout",
     "output_type": "stream",
     "text": [
      "Arquivos salvos com sucesso!\n"
     ]
    }
   ],
   "source": [
    "# SALVA OS RESULTADOS\n",
    "\n",
    "clientes_maiores_compras_pd = clientes_maiores_compras.toPandas()\n",
    "vendas_anuais_pd = vendas_anuais.toPandas()\n",
    "\n",
    "clientes_maiores_compras_pd.to_csv(\"../csv/clientes_maiores_compras.csv\", index=False)\n",
    "vendas_anuais_pd.to_csv(\"../csv/vendas_anuais.csv\", index=False)\n",
    "\n",
    "print(\"Arquivos salvos com sucesso!\")\n"
   ]
  }
 ],
 "metadata": {
  "kernelspec": {
   "display_name": "Python 3",
   "language": "python",
   "name": "python3"
  },
  "language_info": {
   "codemirror_mode": {
    "name": "ipython",
    "version": 3
   },
   "file_extension": ".py",
   "mimetype": "text/x-python",
   "name": "python",
   "nbconvert_exporter": "python",
   "pygments_lexer": "ipython3",
   "version": "3.11.3"
  }
 },
 "nbformat": 4,
 "nbformat_minor": 5
}
