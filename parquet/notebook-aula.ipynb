{
 "cells": [
  {
   "cell_type": "code",
   "execution_count": 2,
   "id": "ecee0c66",
   "metadata": {},
   "outputs": [],
   "source": [
    "import pandas as pd\n",
    "import os\n",
    "import random"
   ]
  },
  {
   "cell_type": "code",
   "execution_count": 3,
   "id": "56f1be06",
   "metadata": {},
   "outputs": [
    {
     "name": "stdout",
     "output_type": "stream",
     "text": [
      "Arquivo 'pessoas.csv' criado!\n"
     ]
    }
   ],
   "source": [
    "# CRIA O ARQUIVO 'CSV'\n",
    "\n",
    "nomes = [\n",
    "    \"Ana\", \"Bruno\", \"Carlos\", \"Daniela\", \"Eduardo\", \"Fernanda\", \"Gabriel\", \"Helena\",\n",
    "    \"Igor\", \"Juliana\", \"Kleber\", \"Laura\", \"Marcos\", \"Natália\", \"Otávio\", \"Patrícia\",\n",
    "    \"Rafael\", \"Sabrina\", \"Thiago\", \"Vanessa\"\n",
    "]\n",
    "\n",
    "idades = [\n",
    "    18, 19, 20, 21, 22, 23, 24, 25, 26, 27,\n",
    "    28, 29, 30, 22, 24, 26, 28, 20, 19, 21\n",
    "]\n",
    "\n",
    "\n",
    "cidades = [\n",
    "    \"São Paulo\", \"Rio de Janeiro\", \"Curitiba\", \"Belo Horizonte\", \"Salvador\"\n",
    "] * 4 \n",
    "\n",
    "\n",
    "random.shuffle(cidades)\n",
    "\n",
    "# CRIA UM DATAFRAME\n",
    "\n",
    "dados = {\n",
    "    \"nome\": nomes,\n",
    "    \"idade\": idades,\n",
    "    \"cidade\": cidades\n",
    "}\n",
    "\n",
    "df = pd.DataFrame(dados)\n",
    "\n",
    "# SALVA O ARQUIVO\n",
    "\n",
    "df.to_csv(\"../csv/pessoas.csv\", index=False)\n",
    "\n",
    "print(\"Arquivo 'pessoas.csv' criado!\")"
   ]
  },
  {
   "cell_type": "code",
   "execution_count": 4,
   "id": "17989ed4",
   "metadata": {},
   "outputs": [
    {
     "name": "stdout",
     "output_type": "stream",
     "text": [
      "root\n",
      " |-- nome: string (nullable = true)\n",
      " |-- idade: integer (nullable = true)\n",
      " |-- cidade: string (nullable = true)\n",
      "\n"
     ]
    }
   ],
   "source": [
    "from pyspark.sql import SparkSession\n",
    "from pyspark.sql.functions import col\n",
    "\n",
    "# CRIANDO A SESSÃO DO SPARK COM UM NOME PARA O APLICATIVO\n",
    "\n",
    "spark = SparkSession.builder.appName(\"ExercicioSpark\").getOrCreate()\n",
    "\n",
    "# LENDO O ARQUIVO CSV E TRANSFORMANDO EM UM DATAFRAME\n",
    "\n",
    "df = spark.read.csv(\"../csv/pessoas.csv\", header=True, inferSchema=True)\n",
    "\n",
    "# EXIBINDO O ESQUEMA DAS COLUNAS PARA VERIFICAR OS TIPOS DE DADOS\n",
    "\n",
    "df.printSchema()\n"
   ]
  },
  {
   "cell_type": "code",
   "execution_count": 5,
   "id": "55f32a82",
   "metadata": {},
   "outputs": [
    {
     "name": "stdout",
     "output_type": "stream",
     "text": [
      "Primeiras 5 linhas do DataFrame:\n",
      "+-------+-----+--------------+\n",
      "|   nome|idade|        cidade|\n",
      "+-------+-----+--------------+\n",
      "|    Ana|   18|Belo Horizonte|\n",
      "|  Bruno|   19|      Curitiba|\n",
      "| Carlos|   20|Rio de Janeiro|\n",
      "|Daniela|   21|      Salvador|\n",
      "|Eduardo|   22|      Curitiba|\n",
      "+-------+-----+--------------+\n",
      "only showing top 5 rows\n",
      "\n"
     ]
    }
   ],
   "source": [
    "# EXIBE AS PRIMEIRAS 5 LINHAS DO DATAFRAME\n",
    "\n",
    "print(\"Primeiras 5 linhas do DataFrame:\")\n",
    "df.show(5)"
   ]
  },
  {
   "cell_type": "code",
   "execution_count": 6,
   "id": "8c36337a",
   "metadata": {},
   "outputs": [
    {
     "name": "stdout",
     "output_type": "stream",
     "text": [
      "Pessoas com idade acima de 25:\n",
      "+--------+-----+--------------+\n",
      "|    nome|idade|        cidade|\n",
      "+--------+-----+--------------+\n",
      "|    Igor|   26|      Salvador|\n",
      "| Juliana|   27|     São Paulo|\n",
      "|  Kleber|   28|     São Paulo|\n",
      "|   Laura|   29|Rio de Janeiro|\n",
      "|  Marcos|   30|Rio de Janeiro|\n",
      "|Patrícia|   26|     São Paulo|\n",
      "|  Rafael|   28|      Curitiba|\n",
      "+--------+-----+--------------+\n",
      "\n"
     ]
    }
   ],
   "source": [
    "# FILTRA PESSOAS COM MAIS DE 25 ANOS\n",
    "\n",
    "print(\"Pessoas com idade acima de 25:\")\n",
    "df.filter(col(\"idade\") > 25).show()"
   ]
  },
  {
   "cell_type": "code",
   "execution_count": 7,
   "id": "41a26a0d",
   "metadata": {},
   "outputs": [
    {
     "name": "stdout",
     "output_type": "stream",
     "text": [
      "Colunas selecionadas:\n",
      "+--------+--------------+\n",
      "|    nome|        cidade|\n",
      "+--------+--------------+\n",
      "|     Ana|Belo Horizonte|\n",
      "|   Bruno|      Curitiba|\n",
      "|  Carlos|Rio de Janeiro|\n",
      "| Daniela|      Salvador|\n",
      "| Eduardo|      Curitiba|\n",
      "|Fernanda|Belo Horizonte|\n",
      "| Gabriel|Rio de Janeiro|\n",
      "|  Helena|      Salvador|\n",
      "|    Igor|      Salvador|\n",
      "| Juliana|     São Paulo|\n",
      "|  Kleber|     São Paulo|\n",
      "|   Laura|Rio de Janeiro|\n",
      "|  Marcos|Rio de Janeiro|\n",
      "| Natália|Belo Horizonte|\n",
      "|  Otávio|Belo Horizonte|\n",
      "|Patrícia|     São Paulo|\n",
      "|  Rafael|      Curitiba|\n",
      "| Sabrina|      Curitiba|\n",
      "|  Thiago|      Salvador|\n",
      "| Vanessa|     São Paulo|\n",
      "+--------+--------------+\n",
      "\n"
     ]
    }
   ],
   "source": [
    "from pyspark.sql.functions import upper\n",
    "\n",
    "# SELECIONA APENAS AS COLUNAS NOME E CIDADE\n",
    "\n",
    "df_selecionado = df.select(\"nome\", \"cidade\")\n",
    "print(\"Colunas selecionadas:\")\n",
    "df_selecionado.show()"
   ]
  },
  {
   "cell_type": "code",
   "execution_count": 8,
   "id": "f3972421",
   "metadata": {},
   "outputs": [
    {
     "name": "stdout",
     "output_type": "stream",
     "text": [
      "Dados ordenados pela idade (decrescente):\n",
      "+--------+-----+--------------+\n",
      "|    nome|idade|        cidade|\n",
      "+--------+-----+--------------+\n",
      "|  Marcos|   30|Rio de Janeiro|\n",
      "|   Laura|   29|Rio de Janeiro|\n",
      "|  Kleber|   28|     São Paulo|\n",
      "|  Rafael|   28|      Curitiba|\n",
      "| Juliana|   27|     São Paulo|\n",
      "|    Igor|   26|      Salvador|\n",
      "|Patrícia|   26|     São Paulo|\n",
      "|  Helena|   25|      Salvador|\n",
      "| Gabriel|   24|Rio de Janeiro|\n",
      "|  Otávio|   24|Belo Horizonte|\n",
      "|Fernanda|   23|Belo Horizonte|\n",
      "| Eduardo|   22|      Curitiba|\n",
      "| Natália|   22|Belo Horizonte|\n",
      "| Daniela|   21|      Salvador|\n",
      "| Vanessa|   21|     São Paulo|\n",
      "|  Carlos|   20|Rio de Janeiro|\n",
      "| Sabrina|   20|      Curitiba|\n",
      "|   Bruno|   19|      Curitiba|\n",
      "|  Thiago|   19|      Salvador|\n",
      "|     Ana|   18|Belo Horizonte|\n",
      "+--------+-----+--------------+\n",
      "\n"
     ]
    }
   ],
   "source": [
    "# ORDENA OS DADOS DA COLUNA IDADE EM ORDEM DECRESCENTE\n",
    "\n",
    "df_ordenado = df.orderBy(col(\"idade\").desc())\n",
    "print(\"Dados ordenados pela idade (decrescente):\")\n",
    "df_ordenado.show()"
   ]
  },
  {
   "cell_type": "code",
   "execution_count": 9,
   "id": "7ab09061",
   "metadata": {},
   "outputs": [
    {
     "name": "stdout",
     "output_type": "stream",
     "text": [
      "Nomes em letras maiúsculas:\n",
      "+--------+-----+--------------+\n",
      "|    nome|idade|        cidade|\n",
      "+--------+-----+--------------+\n",
      "|     ANA|   18|Belo Horizonte|\n",
      "|   BRUNO|   19|      Curitiba|\n",
      "|  CARLOS|   20|Rio de Janeiro|\n",
      "| DANIELA|   21|      Salvador|\n",
      "| EDUARDO|   22|      Curitiba|\n",
      "|FERNANDA|   23|Belo Horizonte|\n",
      "| GABRIEL|   24|Rio de Janeiro|\n",
      "|  HELENA|   25|      Salvador|\n",
      "|    IGOR|   26|      Salvador|\n",
      "| JULIANA|   27|     São Paulo|\n",
      "|  KLEBER|   28|     São Paulo|\n",
      "|   LAURA|   29|Rio de Janeiro|\n",
      "|  MARCOS|   30|Rio de Janeiro|\n",
      "| NATÁLIA|   22|Belo Horizonte|\n",
      "|  OTÁVIO|   24|Belo Horizonte|\n",
      "|PATRÍCIA|   26|     São Paulo|\n",
      "|  RAFAEL|   28|      Curitiba|\n",
      "| SABRINA|   20|      Curitiba|\n",
      "|  THIAGO|   19|      Salvador|\n",
      "| VANESSA|   21|     São Paulo|\n",
      "+--------+-----+--------------+\n",
      "\n"
     ]
    }
   ],
   "source": [
    "# CONVERTE OS NOMES PARA LETRAS MAIÚSCULAS\n",
    "\n",
    "df_maiusculo = df.withColumn(\"nome\", upper(col(\"nome\")))\n",
    "print(\"Nomes em letras maiúsculas:\")\n",
    "df_maiusculo.show()"
   ]
  },
  {
   "cell_type": "code",
   "execution_count": 10,
   "id": "fb3d05cc",
   "metadata": {},
   "outputs": [
    {
     "name": "stdout",
     "output_type": "stream",
     "text": [
      "Idade média das pessoas:\n",
      "+-----------+\n",
      "|idade_media|\n",
      "+-----------+\n",
      "|       23.6|\n",
      "+-----------+\n",
      "\n"
     ]
    }
   ],
   "source": [
    "from pyspark.sql.functions import avg\n",
    "\n",
    "# CALCULA A IDADE MÉDIA DAS PESSOAS\n",
    "\n",
    "idade_media = df.agg(avg(\"idade\").alias(\"idade_media\")) \n",
    "print(\"Idade média das pessoas:\")\n",
    "idade_media.show()"
   ]
  },
  {
   "cell_type": "code",
   "execution_count": 11,
   "id": "07d44a31",
   "metadata": {},
   "outputs": [
    {
     "name": "stdout",
     "output_type": "stream",
     "text": [
      "Número de pessoas por cidade:\n",
      "+--------------+-----+\n",
      "|        cidade|count|\n",
      "+--------------+-----+\n",
      "|      Curitiba|    4|\n",
      "|Belo Horizonte|    4|\n",
      "|      Salvador|    4|\n",
      "|     São Paulo|    4|\n",
      "|Rio de Janeiro|    4|\n",
      "+--------------+-----+\n",
      "\n"
     ]
    }
   ],
   "source": [
    "# CONTA O NÚMERO DE PESSOAS POR CIDADE\n",
    "\n",
    "pessoas_por_cidade = df.groupBy(\"cidade\").count().alias(\"numero_pessoas\")\n",
    "print(\"Número de pessoas por cidade:\")\n",
    "pessoas_por_cidade.show()\n"
   ]
  },
  {
   "cell_type": "code",
   "execution_count": 12,
   "id": "18d897db",
   "metadata": {},
   "outputs": [],
   "source": [
    "# REGISTRA O DATAFRAME COMO UM TABELA TEMPORARIA\n",
    "\n",
    "df.createOrReplaceTempView(\"tabela_pessoas\")"
   ]
  },
  {
   "cell_type": "code",
   "execution_count": 13,
   "id": "474d4390",
   "metadata": {},
   "outputs": [
    {
     "name": "stdout",
     "output_type": "stream",
     "text": [
      "Pessoas que moram na cidade 'São Paulo':\n",
      "+--------+-----+---------+\n",
      "|    nome|idade|   cidade|\n",
      "+--------+-----+---------+\n",
      "| Juliana|   27|São Paulo|\n",
      "|  Kleber|   28|São Paulo|\n",
      "|Patrícia|   26|São Paulo|\n",
      "| Vanessa|   21|São Paulo|\n",
      "+--------+-----+---------+\n",
      "\n"
     ]
    }
   ],
   "source": [
    "# CONSULTA SQL PARA PESSOAS DE UMA CIDADE ESPECIFICA\n",
    "\n",
    "cidade_especifica = \"São Paulo\" \n",
    "consulta_cidade = f\"\"\" SELECT * FROM tabela_pessoas WHERE cidade = '{cidade_especifica}' \"\"\" \n",
    "pessoas_na_cidade = spark.sql(consulta_cidade) \n",
    "print(f\"Pessoas que moram na cidade '{cidade_especifica}':\") \n",
    "pessoas_na_cidade.show()"
   ]
  },
  {
   "cell_type": "code",
   "execution_count": 14,
   "id": "03122537",
   "metadata": {},
   "outputs": [
    {
     "name": "stdout",
     "output_type": "stream",
     "text": [
      "Soma das idades:\n",
      "+---------------+\n",
      "|soma_das_idades|\n",
      "+---------------+\n",
      "|            472|\n",
      "+---------------+\n",
      "\n"
     ]
    }
   ],
   "source": [
    "# CONSULTA SQL SOMANDO AS IDADES\n",
    "\n",
    "consulta_soma_idades = \"\"\" SELECT SUM(idade) AS soma_das_idades FROM tabela_pessoas \"\"\" \n",
    "soma_idades = spark.sql(consulta_soma_idades) \n",
    "print(\"Soma das idades:\") \n",
    "soma_idades.show()"
   ]
  },
  {
   "cell_type": "code",
   "execution_count": null,
   "id": "1a113597",
   "metadata": {},
   "outputs": [],
   "source": []
  }
 ],
 "metadata": {
  "kernelspec": {
   "display_name": "Python 3",
   "language": "python",
   "name": "python3"
  },
  "language_info": {
   "codemirror_mode": {
    "name": "ipython",
    "version": 3
   },
   "file_extension": ".py",
   "mimetype": "text/x-python",
   "name": "python",
   "nbconvert_exporter": "python",
   "pygments_lexer": "ipython3",
   "version": "3.11.3"
  }
 },
 "nbformat": 4,
 "nbformat_minor": 5
}
